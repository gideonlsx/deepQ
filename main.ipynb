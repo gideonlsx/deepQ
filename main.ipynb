{
 "cells": [
  {
   "cell_type": "markdown",
   "metadata": {},
   "source": [
    "## Deep learning quantum DD compiler"
   ]
  },
  {
   "cell_type": "markdown",
   "metadata": {},
   "source": [
    "## Methodology\n",
    "\n",
    "1. **Model training.** The deep learning model was trained on 1,000 random 5-qubit circuits evaluated by IBMQ Burlington to predict the difference in trace distance between two equivalent random circuits. These supremacy-style random circuits had many gaps due to 2-qubit gates compensating for partial connectivity after compiling to maximum optimization; we filled the gaps completely randomly with sequences of U3 gates equivalent to the identity. All 1,000 circuits were run on IBM Q Burlington.\n",
    "\n",
    "2. **Compiling.** We ran the trained model on a new set of 500 random circuits. For each random circuit (compiled to maximum optimization for IBM Q Burlington's error rates on March 18), we generated 1,000 randomly padded circuits. The deep learning model was then used to predict the relative noise between pairs of circuits in 50 tournaments of 20 competitors each, selecting the circuit expected to be the least noisy as the \"compiled\" circuit.\n",
    "\n",
    "3. **Testing.** The compiled circuits were run on IBM Q Burlington, Essex, London, Ourense, Vigo (which have the same architecture) and Yorktown (which has a different architecture). On Burlington, we found that DD-compiled circuits improve trace distance by 11% (10% to 12%, 0.95 CI) per circuit compared to IBM-compiled. On all other 5-qubit devices, the DD compiler also performed better than the IBM Qiskit compiler, although with around half the improvement compared to performance on Burlington. Nevertheless, the improvement on all devices was statistically significantly better than applying random DD sequences."
   ]
  },
  {
   "cell_type": "code",
   "execution_count": 2,
   "metadata": {},
   "outputs": [],
   "source": [
    "import numpy as np\n",
    "import bootstrapped.bootstrap as bs\n",
    "import bootstrapped.stats_functions as bs_stats\n",
    "import glob"
   ]
  },
  {
   "cell_type": "markdown",
   "metadata": {},
   "source": [
    "Average impact of random DD sequences on the training set:"
   ]
  },
  {
   "cell_type": "code",
   "execution_count": 14,
   "metadata": {},
   "outputs": [
    {
     "data": {
      "text/plain": [
       "-0.04472841360952699    (-0.04586115666298597, -0.043587626767780586)"
      ]
     },
     "execution_count": 14,
     "metadata": {},
     "output_type": "execute_result"
    }
   ],
   "source": [
    "a = np.load('supremacy_all_5_unique/burlington_noise.npy')\n",
    "free = np.expand_dims(a[:, 0], 1)\n",
    "compiled = a[:, 1:]\n",
    "bs.bootstrap(((compiled - free)/free).flatten(), stat_func=bs_stats.mean)"
   ]
  },
  {
   "cell_type": "markdown",
   "metadata": {},
   "source": [
    "We evaluate the change in trace distance between compiled and identity for all computers, as well as the difference in trace distance between a given computer and the Burlington device for which the noise model was trained for."
   ]
  },
  {
   "cell_type": "code",
   "execution_count": 5,
   "metadata": {},
   "outputs": [],
   "source": [
    "def diff(files):\n",
    "    data = []\n",
    "    for i in range(len(files)):\n",
    "        d = []\n",
    "        for f in sorted(files[i]):\n",
    "            d.append(np.load(f))\n",
    "        if len(d) == 0:\n",
    "            return None\n",
    "        data.append(np.concatenate(d))\n",
    "    diff = (data[0][:len(data[1])] - data[1])/data[1]\n",
    "    return diff"
   ]
  },
  {
   "cell_type": "code",
   "execution_count": 15,
   "metadata": {},
   "outputs": [
    {
     "name": "stdout",
     "output_type": "stream",
     "text": [
      "Computer: burlington\n",
      "burlington change in trace distance -0.11140341171900789    (-0.12448761411948694, -0.09776461871487682)\n",
      "500 circuits\n",
      "\n",
      "Computer: essex\n",
      "essex change in trace distance -0.05544860532039153    (-0.07066875273166959, -0.0426917043367816)\n",
      "diff from burlington 0.0495800995168085    (0.0386419387018658, 0.06341252505688803)\n",
      "500 circuits\n",
      "\n",
      "Computer: london\n",
      "london change in trace distance -0.05561113504815794    (-0.0594903253374298, -0.04926013584502502)\n",
      "diff from burlington 0.04336468345014906    (0.027821642077278205, 0.05423607741455928)\n",
      "500 circuits\n",
      "\n",
      "Computer: ourense\n",
      "ourense change in trace distance -0.06148141545139791    (-0.07073663543558335, -0.05315337939908586)\n",
      "diff from burlington 0.03574368774382461    (0.02318768360675203, 0.04752435282444325)\n",
      "500 circuits\n",
      "\n",
      "Computer: vigo\n",
      "vigo change in trace distance -0.047762428196207886    (-0.05629225779499844, -0.037619481706219135)\n",
      "diff from burlington 0.04772189166971301    (0.02519764654574376, 0.0654621371629196)\n",
      "500 circuits\n",
      "\n",
      "Computer: 5_yorktown\n",
      "5_yorktown change in trace distance -0.06472277844406726    (-0.07646825790423192, -0.05562860914506866)\n",
      "diff from burlington 0.03736205523040374    (0.018330214205375513, 0.050766748096508996)\n",
      "500 circuits\n",
      "\n"
     ]
    }
   ],
   "source": [
    "home = 'test_noise_5/'\n",
    "home_files = [glob.glob(home + 'burlington_compiled*'), glob.glob(home + 'burlington_identity*')]\n",
    "home_diff = diff(home_files)\n",
    "\n",
    "print('Computer: burlington')\n",
    "print('burlington change in trace distance', bs.bootstrap(home_diff, stat_func=bs_stats.mean))\n",
    "print(len(home_diff), 'circuits')\n",
    "print()\n",
    "\n",
    "comparisons = ['essex', 'london', 'ourense', 'vigo', '5_yorktown']\n",
    "for c in comparisons:\n",
    "    files = [glob.glob(home + c + '_compiled*'), glob.glob(home + c + '_identity*')]\n",
    "    dr_diff = diff(files)\n",
    "    print('Computer:', c)\n",
    "    if dr_diff is None:\n",
    "        print('no data')\n",
    "    else:\n",
    "        l = min(len(dr_diff), len(home_diff))\n",
    "        print(c + ' change in trace distance', bs.bootstrap(dr_diff, stat_func=bs_stats.median))\n",
    "        print('diff from burlington', bs.bootstrap(dr_diff[:l] - home_diff[:l], stat_func=bs_stats.median))\n",
    "        print(l, 'circuits')\n",
    "    print()"
   ]
  },
  {
   "cell_type": "code",
   "execution_count": null,
   "metadata": {},
   "outputs": [],
   "source": []
  }
 ],
 "metadata": {
  "kernelspec": {
   "display_name": "Python 3",
   "language": "python",
   "name": "python3"
  },
  "language_info": {
   "codemirror_mode": {
    "name": "ipython",
    "version": 3
   },
   "file_extension": ".py",
   "mimetype": "text/x-python",
   "name": "python",
   "nbconvert_exporter": "python",
   "pygments_lexer": "ipython3",
   "version": "3.6.8"
  }
 },
 "nbformat": 4,
 "nbformat_minor": 4
}
